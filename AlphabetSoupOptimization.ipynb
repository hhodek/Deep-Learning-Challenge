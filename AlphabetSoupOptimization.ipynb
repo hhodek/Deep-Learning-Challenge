{
  "cells": [
    {
      "cell_type": "markdown",
      "metadata": {
        "id": "view-in-github",
        "colab_type": "text"
      },
      "source": [
        "<a href=\"https://colab.research.google.com/github/hhodek/Deep-Learning-Challenge/blob/main/AlphabetSoupOptimization.ipynb\" target=\"_parent\"><img src=\"https://colab.research.google.com/assets/colab-badge.svg\" alt=\"Open In Colab\"/></a>"
      ]
    },
    {
      "cell_type": "markdown",
      "metadata": {
        "id": "r4hDZukeouss"
      },
      "source": [
        "## Preprocessing"
      ]
    },
    {
      "cell_type": "code",
      "execution_count": 77,
      "metadata": {
        "colab": {
          "base_uri": "https://localhost:8080/",
          "height": 456
        },
        "id": "uiFySo-Foust",
        "outputId": "a7ef2424-f2ce-484d-d15d-1ccf8c629767"
      },
      "outputs": [
        {
          "output_type": "stream",
          "name": "stdout",
          "text": [
            "Requirement already satisfied: keras-tuner in /usr/local/lib/python3.10/dist-packages (1.4.5)\n",
            "Requirement already satisfied: keras-core in /usr/local/lib/python3.10/dist-packages (from keras-tuner) (0.1.7)\n",
            "Requirement already satisfied: packaging in /usr/local/lib/python3.10/dist-packages (from keras-tuner) (23.2)\n",
            "Requirement already satisfied: requests in /usr/local/lib/python3.10/dist-packages (from keras-tuner) (2.31.0)\n",
            "Requirement already satisfied: kt-legacy in /usr/local/lib/python3.10/dist-packages (from keras-tuner) (1.0.5)\n",
            "Requirement already satisfied: absl-py in /usr/local/lib/python3.10/dist-packages (from keras-core->keras-tuner) (1.4.0)\n",
            "Requirement already satisfied: numpy in /usr/local/lib/python3.10/dist-packages (from keras-core->keras-tuner) (1.23.5)\n",
            "Requirement already satisfied: rich in /usr/local/lib/python3.10/dist-packages (from keras-core->keras-tuner) (13.6.0)\n",
            "Requirement already satisfied: namex in /usr/local/lib/python3.10/dist-packages (from keras-core->keras-tuner) (0.0.7)\n",
            "Requirement already satisfied: h5py in /usr/local/lib/python3.10/dist-packages (from keras-core->keras-tuner) (3.9.0)\n",
            "Requirement already satisfied: dm-tree in /usr/local/lib/python3.10/dist-packages (from keras-core->keras-tuner) (0.1.8)\n",
            "Requirement already satisfied: charset-normalizer<4,>=2 in /usr/local/lib/python3.10/dist-packages (from requests->keras-tuner) (3.3.0)\n",
            "Requirement already satisfied: idna<4,>=2.5 in /usr/local/lib/python3.10/dist-packages (from requests->keras-tuner) (3.4)\n",
            "Requirement already satisfied: urllib3<3,>=1.21.1 in /usr/local/lib/python3.10/dist-packages (from requests->keras-tuner) (2.0.6)\n",
            "Requirement already satisfied: certifi>=2017.4.17 in /usr/local/lib/python3.10/dist-packages (from requests->keras-tuner) (2023.7.22)\n",
            "Requirement already satisfied: markdown-it-py>=2.2.0 in /usr/local/lib/python3.10/dist-packages (from rich->keras-core->keras-tuner) (3.0.0)\n",
            "Requirement already satisfied: pygments<3.0.0,>=2.13.0 in /usr/local/lib/python3.10/dist-packages (from rich->keras-core->keras-tuner) (2.16.1)\n",
            "Requirement already satisfied: mdurl~=0.1 in /usr/local/lib/python3.10/dist-packages (from markdown-it-py>=2.2.0->rich->keras-core->keras-tuner) (0.1.2)\n"
          ]
        },
        {
          "output_type": "execute_result",
          "data": {
            "text/plain": [
              "        EIN                                    NAME APPLICATION_TYPE  \\\n",
              "0  10520599            BLUE KNIGHTS MOTORCYCLE CLUB              T10   \n",
              "1  10531628  AMERICAN CHESAPEAKE CLUB CHARITABLE TR               T3   \n",
              "2  10547893      ST CLOUD PROFESSIONAL FIREFIGHTERS               T5   \n",
              "\n",
              "        AFFILIATION CLASSIFICATION      USE_CASE  ORGANIZATION  STATUS  \\\n",
              "0       Independent          C1000    ProductDev   Association       1   \n",
              "1       Independent          C2000  Preservation  Co-operative       1   \n",
              "2  CompanySponsored          C3000    ProductDev   Association       1   \n",
              "\n",
              "  INCOME_AMT SPECIAL_CONSIDERATIONS  ASK_AMT  IS_SUCCESSFUL  \n",
              "0          0                      N     5000              1  \n",
              "1     1-9999                      N   108590              1  \n",
              "2          0                      N     5000              0  "
            ],
            "text/html": [
              "\n",
              "  <div id=\"df-9e2618a1-d1b6-463d-9279-85162db79a1a\" class=\"colab-df-container\">\n",
              "    <div>\n",
              "<style scoped>\n",
              "    .dataframe tbody tr th:only-of-type {\n",
              "        vertical-align: middle;\n",
              "    }\n",
              "\n",
              "    .dataframe tbody tr th {\n",
              "        vertical-align: top;\n",
              "    }\n",
              "\n",
              "    .dataframe thead th {\n",
              "        text-align: right;\n",
              "    }\n",
              "</style>\n",
              "<table border=\"1\" class=\"dataframe\">\n",
              "  <thead>\n",
              "    <tr style=\"text-align: right;\">\n",
              "      <th></th>\n",
              "      <th>EIN</th>\n",
              "      <th>NAME</th>\n",
              "      <th>APPLICATION_TYPE</th>\n",
              "      <th>AFFILIATION</th>\n",
              "      <th>CLASSIFICATION</th>\n",
              "      <th>USE_CASE</th>\n",
              "      <th>ORGANIZATION</th>\n",
              "      <th>STATUS</th>\n",
              "      <th>INCOME_AMT</th>\n",
              "      <th>SPECIAL_CONSIDERATIONS</th>\n",
              "      <th>ASK_AMT</th>\n",
              "      <th>IS_SUCCESSFUL</th>\n",
              "    </tr>\n",
              "  </thead>\n",
              "  <tbody>\n",
              "    <tr>\n",
              "      <th>0</th>\n",
              "      <td>10520599</td>\n",
              "      <td>BLUE KNIGHTS MOTORCYCLE CLUB</td>\n",
              "      <td>T10</td>\n",
              "      <td>Independent</td>\n",
              "      <td>C1000</td>\n",
              "      <td>ProductDev</td>\n",
              "      <td>Association</td>\n",
              "      <td>1</td>\n",
              "      <td>0</td>\n",
              "      <td>N</td>\n",
              "      <td>5000</td>\n",
              "      <td>1</td>\n",
              "    </tr>\n",
              "    <tr>\n",
              "      <th>1</th>\n",
              "      <td>10531628</td>\n",
              "      <td>AMERICAN CHESAPEAKE CLUB CHARITABLE TR</td>\n",
              "      <td>T3</td>\n",
              "      <td>Independent</td>\n",
              "      <td>C2000</td>\n",
              "      <td>Preservation</td>\n",
              "      <td>Co-operative</td>\n",
              "      <td>1</td>\n",
              "      <td>1-9999</td>\n",
              "      <td>N</td>\n",
              "      <td>108590</td>\n",
              "      <td>1</td>\n",
              "    </tr>\n",
              "    <tr>\n",
              "      <th>2</th>\n",
              "      <td>10547893</td>\n",
              "      <td>ST CLOUD PROFESSIONAL FIREFIGHTERS</td>\n",
              "      <td>T5</td>\n",
              "      <td>CompanySponsored</td>\n",
              "      <td>C3000</td>\n",
              "      <td>ProductDev</td>\n",
              "      <td>Association</td>\n",
              "      <td>1</td>\n",
              "      <td>0</td>\n",
              "      <td>N</td>\n",
              "      <td>5000</td>\n",
              "      <td>0</td>\n",
              "    </tr>\n",
              "  </tbody>\n",
              "</table>\n",
              "</div>\n",
              "    <div class=\"colab-df-buttons\">\n",
              "\n",
              "  <div class=\"colab-df-container\">\n",
              "    <button class=\"colab-df-convert\" onclick=\"convertToInteractive('df-9e2618a1-d1b6-463d-9279-85162db79a1a')\"\n",
              "            title=\"Convert this dataframe to an interactive table.\"\n",
              "            style=\"display:none;\">\n",
              "\n",
              "  <svg xmlns=\"http://www.w3.org/2000/svg\" height=\"24px\" viewBox=\"0 -960 960 960\">\n",
              "    <path d=\"M120-120v-720h720v720H120Zm60-500h600v-160H180v160Zm220 220h160v-160H400v160Zm0 220h160v-160H400v160ZM180-400h160v-160H180v160Zm440 0h160v-160H620v160ZM180-180h160v-160H180v160Zm440 0h160v-160H620v160Z\"/>\n",
              "  </svg>\n",
              "    </button>\n",
              "\n",
              "  <style>\n",
              "    .colab-df-container {\n",
              "      display:flex;\n",
              "      gap: 12px;\n",
              "    }\n",
              "\n",
              "    .colab-df-convert {\n",
              "      background-color: #E8F0FE;\n",
              "      border: none;\n",
              "      border-radius: 50%;\n",
              "      cursor: pointer;\n",
              "      display: none;\n",
              "      fill: #1967D2;\n",
              "      height: 32px;\n",
              "      padding: 0 0 0 0;\n",
              "      width: 32px;\n",
              "    }\n",
              "\n",
              "    .colab-df-convert:hover {\n",
              "      background-color: #E2EBFA;\n",
              "      box-shadow: 0px 1px 2px rgba(60, 64, 67, 0.3), 0px 1px 3px 1px rgba(60, 64, 67, 0.15);\n",
              "      fill: #174EA6;\n",
              "    }\n",
              "\n",
              "    .colab-df-buttons div {\n",
              "      margin-bottom: 4px;\n",
              "    }\n",
              "\n",
              "    [theme=dark] .colab-df-convert {\n",
              "      background-color: #3B4455;\n",
              "      fill: #D2E3FC;\n",
              "    }\n",
              "\n",
              "    [theme=dark] .colab-df-convert:hover {\n",
              "      background-color: #434B5C;\n",
              "      box-shadow: 0px 1px 3px 1px rgba(0, 0, 0, 0.15);\n",
              "      filter: drop-shadow(0px 1px 2px rgba(0, 0, 0, 0.3));\n",
              "      fill: #FFFFFF;\n",
              "    }\n",
              "  </style>\n",
              "\n",
              "    <script>\n",
              "      const buttonEl =\n",
              "        document.querySelector('#df-9e2618a1-d1b6-463d-9279-85162db79a1a button.colab-df-convert');\n",
              "      buttonEl.style.display =\n",
              "        google.colab.kernel.accessAllowed ? 'block' : 'none';\n",
              "\n",
              "      async function convertToInteractive(key) {\n",
              "        const element = document.querySelector('#df-9e2618a1-d1b6-463d-9279-85162db79a1a');\n",
              "        const dataTable =\n",
              "          await google.colab.kernel.invokeFunction('convertToInteractive',\n",
              "                                                    [key], {});\n",
              "        if (!dataTable) return;\n",
              "\n",
              "        const docLinkHtml = 'Like what you see? Visit the ' +\n",
              "          '<a target=\"_blank\" href=https://colab.research.google.com/notebooks/data_table.ipynb>data table notebook</a>'\n",
              "          + ' to learn more about interactive tables.';\n",
              "        element.innerHTML = '';\n",
              "        dataTable['output_type'] = 'display_data';\n",
              "        await google.colab.output.renderOutput(dataTable, element);\n",
              "        const docLink = document.createElement('div');\n",
              "        docLink.innerHTML = docLinkHtml;\n",
              "        element.appendChild(docLink);\n",
              "      }\n",
              "    </script>\n",
              "  </div>\n",
              "\n",
              "\n",
              "<div id=\"df-71ea974a-dcba-41a5-8063-8bfd8b7d9fe7\">\n",
              "  <button class=\"colab-df-quickchart\" onclick=\"quickchart('df-71ea974a-dcba-41a5-8063-8bfd8b7d9fe7')\"\n",
              "            title=\"Suggest charts.\"\n",
              "            style=\"display:none;\">\n",
              "\n",
              "<svg xmlns=\"http://www.w3.org/2000/svg\" height=\"24px\"viewBox=\"0 0 24 24\"\n",
              "     width=\"24px\">\n",
              "    <g>\n",
              "        <path d=\"M19 3H5c-1.1 0-2 .9-2 2v14c0 1.1.9 2 2 2h14c1.1 0 2-.9 2-2V5c0-1.1-.9-2-2-2zM9 17H7v-7h2v7zm4 0h-2V7h2v10zm4 0h-2v-4h2v4z\"/>\n",
              "    </g>\n",
              "</svg>\n",
              "  </button>\n",
              "\n",
              "<style>\n",
              "  .colab-df-quickchart {\n",
              "      --bg-color: #E8F0FE;\n",
              "      --fill-color: #1967D2;\n",
              "      --hover-bg-color: #E2EBFA;\n",
              "      --hover-fill-color: #174EA6;\n",
              "      --disabled-fill-color: #AAA;\n",
              "      --disabled-bg-color: #DDD;\n",
              "  }\n",
              "\n",
              "  [theme=dark] .colab-df-quickchart {\n",
              "      --bg-color: #3B4455;\n",
              "      --fill-color: #D2E3FC;\n",
              "      --hover-bg-color: #434B5C;\n",
              "      --hover-fill-color: #FFFFFF;\n",
              "      --disabled-bg-color: #3B4455;\n",
              "      --disabled-fill-color: #666;\n",
              "  }\n",
              "\n",
              "  .colab-df-quickchart {\n",
              "    background-color: var(--bg-color);\n",
              "    border: none;\n",
              "    border-radius: 50%;\n",
              "    cursor: pointer;\n",
              "    display: none;\n",
              "    fill: var(--fill-color);\n",
              "    height: 32px;\n",
              "    padding: 0;\n",
              "    width: 32px;\n",
              "  }\n",
              "\n",
              "  .colab-df-quickchart:hover {\n",
              "    background-color: var(--hover-bg-color);\n",
              "    box-shadow: 0 1px 2px rgba(60, 64, 67, 0.3), 0 1px 3px 1px rgba(60, 64, 67, 0.15);\n",
              "    fill: var(--button-hover-fill-color);\n",
              "  }\n",
              "\n",
              "  .colab-df-quickchart-complete:disabled,\n",
              "  .colab-df-quickchart-complete:disabled:hover {\n",
              "    background-color: var(--disabled-bg-color);\n",
              "    fill: var(--disabled-fill-color);\n",
              "    box-shadow: none;\n",
              "  }\n",
              "\n",
              "  .colab-df-spinner {\n",
              "    border: 2px solid var(--fill-color);\n",
              "    border-color: transparent;\n",
              "    border-bottom-color: var(--fill-color);\n",
              "    animation:\n",
              "      spin 1s steps(1) infinite;\n",
              "  }\n",
              "\n",
              "  @keyframes spin {\n",
              "    0% {\n",
              "      border-color: transparent;\n",
              "      border-bottom-color: var(--fill-color);\n",
              "      border-left-color: var(--fill-color);\n",
              "    }\n",
              "    20% {\n",
              "      border-color: transparent;\n",
              "      border-left-color: var(--fill-color);\n",
              "      border-top-color: var(--fill-color);\n",
              "    }\n",
              "    30% {\n",
              "      border-color: transparent;\n",
              "      border-left-color: var(--fill-color);\n",
              "      border-top-color: var(--fill-color);\n",
              "      border-right-color: var(--fill-color);\n",
              "    }\n",
              "    40% {\n",
              "      border-color: transparent;\n",
              "      border-right-color: var(--fill-color);\n",
              "      border-top-color: var(--fill-color);\n",
              "    }\n",
              "    60% {\n",
              "      border-color: transparent;\n",
              "      border-right-color: var(--fill-color);\n",
              "    }\n",
              "    80% {\n",
              "      border-color: transparent;\n",
              "      border-right-color: var(--fill-color);\n",
              "      border-bottom-color: var(--fill-color);\n",
              "    }\n",
              "    90% {\n",
              "      border-color: transparent;\n",
              "      border-bottom-color: var(--fill-color);\n",
              "    }\n",
              "  }\n",
              "</style>\n",
              "\n",
              "  <script>\n",
              "    async function quickchart(key) {\n",
              "      const quickchartButtonEl =\n",
              "        document.querySelector('#' + key + ' button');\n",
              "      quickchartButtonEl.disabled = true;  // To prevent multiple clicks.\n",
              "      quickchartButtonEl.classList.add('colab-df-spinner');\n",
              "      try {\n",
              "        const charts = await google.colab.kernel.invokeFunction(\n",
              "            'suggestCharts', [key], {});\n",
              "      } catch (error) {\n",
              "        console.error('Error during call to suggestCharts:', error);\n",
              "      }\n",
              "      quickchartButtonEl.classList.remove('colab-df-spinner');\n",
              "      quickchartButtonEl.classList.add('colab-df-quickchart-complete');\n",
              "    }\n",
              "    (() => {\n",
              "      let quickchartButtonEl =\n",
              "        document.querySelector('#df-71ea974a-dcba-41a5-8063-8bfd8b7d9fe7 button');\n",
              "      quickchartButtonEl.style.display =\n",
              "        google.colab.kernel.accessAllowed ? 'block' : 'none';\n",
              "    })();\n",
              "  </script>\n",
              "</div>\n",
              "    </div>\n",
              "  </div>\n"
            ]
          },
          "metadata": {},
          "execution_count": 77
        }
      ],
      "source": [
        "# Import our dependencies\n",
        "from sklearn.model_selection import train_test_split\n",
        "from sklearn.preprocessing import StandardScaler\n",
        "import pandas as pd\n",
        "import tensorflow as tf\n",
        "!pip install keras-tuner\n",
        "import keras_tuner as kt\n",
        "\n",
        "#  Import and read the charity_data.csv.\n",
        "import pandas as pd\n",
        "application_df = pd.read_csv(\"https://static.bc-edx.com/data/dl-1-2/m21/lms/starter/charity_data.csv\")\n",
        "application_df.head(3)"
      ]
    },
    {
      "cell_type": "code",
      "execution_count": 78,
      "metadata": {
        "id": "DvMIylH-oust"
      },
      "outputs": [],
      "source": [
        "# Drop the non-beneficial ID columns, 'EIN' and 'NAME'.\n",
        "application_df = application_df.drop([ 'NAME'], axis=1)"
      ]
    },
    {
      "cell_type": "code",
      "execution_count": 79,
      "metadata": {
        "colab": {
          "base_uri": "https://localhost:8080/"
        },
        "id": "2_9oFtIlousu",
        "outputId": "9af26ed6-da5d-47bb-b08e-7447dfd78a99"
      },
      "outputs": [
        {
          "output_type": "stream",
          "name": "stdout",
          "text": [
            "EIN                       34299\n",
            "APPLICATION_TYPE             17\n",
            "AFFILIATION                   6\n",
            "CLASSIFICATION               71\n",
            "USE_CASE                      5\n",
            "ORGANIZATION                  4\n",
            "STATUS                        2\n",
            "INCOME_AMT                    9\n",
            "SPECIAL_CONSIDERATIONS        2\n",
            "ASK_AMT                    8747\n",
            "IS_SUCCESSFUL                 2\n",
            "dtype: int64\n"
          ]
        }
      ],
      "source": [
        "# Determine the number of unique values in each column.\n",
        "unique_counts = application_df.nunique()\n",
        "print(unique_counts)"
      ]
    },
    {
      "cell_type": "code",
      "execution_count": 80,
      "metadata": {
        "colab": {
          "base_uri": "https://localhost:8080/"
        },
        "id": "15N1_hhfousu",
        "outputId": "559556b4-d798-4c1f-9a3b-24cf20a5b775"
      },
      "outputs": [
        {
          "output_type": "stream",
          "name": "stdout",
          "text": [
            "T3     27037\n",
            "T4      1542\n",
            "T6      1216\n",
            "T5      1173\n",
            "T19     1065\n",
            "T8       737\n",
            "T7       725\n",
            "T10      528\n",
            "T9       156\n",
            "T13       66\n",
            "T12       27\n",
            "T2        16\n",
            "T25        3\n",
            "T14        3\n",
            "T29        2\n",
            "T15        2\n",
            "T17        1\n",
            "Name: APPLICATION_TYPE, dtype: int64\n"
          ]
        }
      ],
      "source": [
        "# Look at APPLICATION_TYPE value counts for binning\n",
        "application_type_counts = application_df['APPLICATION_TYPE'].value_counts()\n",
        "print(application_type_counts)"
      ]
    },
    {
      "cell_type": "code",
      "execution_count": 81,
      "metadata": {
        "colab": {
          "base_uri": "https://localhost:8080/"
        },
        "id": "zCye_HDUousu",
        "outputId": "0692364a-7c0a-465a-d5ac-8893432a1a55"
      },
      "outputs": [
        {
          "output_type": "execute_result",
          "data": {
            "text/plain": [
              "T3       27037\n",
              "T4        1542\n",
              "T6        1216\n",
              "T5        1173\n",
              "T19       1065\n",
              "T8         737\n",
              "T7         725\n",
              "T10        528\n",
              "Other      276\n",
              "Name: APPLICATION_TYPE, dtype: int64"
            ]
          },
          "metadata": {},
          "execution_count": 81
        }
      ],
      "source": [
        "# Choose a cutoff value and create a list of application types to be replaced\n",
        "# use the variable name `application_types_to_replace`\n",
        "\n",
        "# Choose a cutoff value (you can adjust this as needed)\n",
        "cutoff_value = 500  # For example, setting a cutoff value of 500\n",
        "\n",
        "# Get application types with frequencies below the cutoff value\n",
        "low_freq_application_types = application_type_counts[application_type_counts < cutoff_value].index.tolist()\n",
        "\n",
        "# Create a list of application types to be replaced with \"Other\"\n",
        "application_types_to_replace = low_freq_application_types\n",
        "\n",
        "# Replace in dataframe\n",
        "for app in application_types_to_replace:\n",
        "    application_df['APPLICATION_TYPE'] = application_df['APPLICATION_TYPE'].replace(app,\"Other\")\n",
        "\n",
        "# Check to make sure binning was successful\n",
        "application_df['APPLICATION_TYPE'].value_counts()"
      ]
    },
    {
      "cell_type": "markdown",
      "metadata": {
        "id": "aLZi0UOXousu"
      },
      "source": []
    },
    {
      "cell_type": "code",
      "execution_count": 82,
      "metadata": {
        "colab": {
          "base_uri": "https://localhost:8080/"
        },
        "id": "g7Y0mvfZousu",
        "outputId": "3a27729f-5a19-4394-e69e-8eb29c4e460e"
      },
      "outputs": [
        {
          "output_type": "stream",
          "name": "stdout",
          "text": [
            "C1000    17326\n",
            "C2000     6074\n",
            "C1200     4837\n",
            "C3000     1918\n",
            "C2100     1883\n",
            "         ...  \n",
            "C4120        1\n",
            "C8210        1\n",
            "C2561        1\n",
            "C4500        1\n",
            "C2150        1\n",
            "Name: CLASSIFICATION, Length: 71, dtype: int64\n"
          ]
        }
      ],
      "source": [
        "# Look at CLASSIFICATION value counts for binning\n",
        "classification_counts = application_df['CLASSIFICATION'].value_counts()\n",
        "print(classification_counts)"
      ]
    },
    {
      "cell_type": "code",
      "execution_count": 83,
      "metadata": {
        "colab": {
          "base_uri": "https://localhost:8080/"
        },
        "id": "h9V08xh6ousv",
        "outputId": "2dba9c82-f2b7-42c3-91b2-5a31d5abdeaf"
      },
      "outputs": [
        {
          "output_type": "stream",
          "name": "stdout",
          "text": [
            "C1000    17326\n",
            "C2000     6074\n",
            "C1200     4837\n",
            "C3000     1918\n",
            "C2100     1883\n",
            "C7000      777\n",
            "C1700      287\n",
            "C4000      194\n",
            "C5000      116\n",
            "C1270      114\n",
            "C2700      104\n",
            "C2800       95\n",
            "C7100       75\n",
            "C1300       58\n",
            "C1280       50\n",
            "C1230       36\n",
            "C1400       34\n",
            "C7200       32\n",
            "C2300       32\n",
            "C1240       30\n",
            "C8000       20\n",
            "C7120       18\n",
            "C1500       16\n",
            "C1800       15\n",
            "C6000       15\n",
            "C1250       14\n",
            "C8200       11\n",
            "C1238       10\n",
            "C1278       10\n",
            "C1235        9\n",
            "C1237        9\n",
            "C7210        7\n",
            "C2400        6\n",
            "C1720        6\n",
            "C4100        6\n",
            "C1257        5\n",
            "C1600        5\n",
            "C1260        3\n",
            "C2710        3\n",
            "C0           3\n",
            "C3200        2\n",
            "C1234        2\n",
            "C1246        2\n",
            "C1267        2\n",
            "C1256        2\n",
            "Name: CLASSIFICATION, dtype: int64\n"
          ]
        }
      ],
      "source": [
        "# You may find it helpful to look at CLASSIFICATION value counts >1\n",
        "classification_counts = application_df['CLASSIFICATION'].value_counts()\n",
        "classification_counts_gt1 = classification_counts[classification_counts > 1]\n",
        "print(classification_counts_gt1)"
      ]
    },
    {
      "cell_type": "code",
      "execution_count": 84,
      "metadata": {
        "colab": {
          "base_uri": "https://localhost:8080/"
        },
        "id": "fGzSEZadousv",
        "outputId": "e89462da-e71c-4282-e9e7-547dbc1a57ba"
      },
      "outputs": [
        {
          "output_type": "execute_result",
          "data": {
            "text/plain": [
              "C1000    17326\n",
              "C2000     6074\n",
              "C1200     4837\n",
              "Other     2261\n",
              "C3000     1918\n",
              "C2100     1883\n",
              "Name: CLASSIFICATION, dtype: int64"
            ]
          },
          "metadata": {},
          "execution_count": 84
        }
      ],
      "source": [
        "# Choose a cutoff value and create a list of classifications to be replaced\n",
        "# use the variable name `classifications_to_replace`\n",
        "# Choose a cutoff value\n",
        "cutoff_value = 1000\n",
        "\n",
        "# Get classifications with frequencies below the cutoff value\n",
        "low_freq_classifications = classification_counts[classification_counts < cutoff_value].index.tolist()\n",
        "\n",
        "# Create a list of classifications to be replaced with \"Other\"\n",
        "classifications_to_replace = low_freq_classifications\n",
        "\n",
        "# Replace in dataframe\n",
        "for cls in classifications_to_replace:\n",
        "    application_df['CLASSIFICATION'] = application_df['CLASSIFICATION'].replace(cls,\"Other\")\n",
        "\n",
        "# Check to make sure binning was successful\n",
        "application_df['CLASSIFICATION'].value_counts()"
      ]
    },
    {
      "cell_type": "code",
      "execution_count": 85,
      "metadata": {
        "id": "Sb5HGhcaousv"
      },
      "outputs": [],
      "source": [
        "# Convert categorical data to numeric with `pd.get_dummies`\n",
        "# Specify the categorical columns to convert\n",
        "categorical_columns = ['APPLICATION_TYPE', 'AFFILIATION', 'USE_CASE', 'ORGANIZATION', 'INCOME_AMT', 'SPECIAL_CONSIDERATIONS', 'CLASSIFICATION']\n",
        "\n",
        "# Create dummy variables for the specified columns\n",
        "application_df = pd.get_dummies(application_df, columns=categorical_columns)\n",
        "\n"
      ]
    },
    {
      "cell_type": "code",
      "execution_count": 86,
      "metadata": {
        "id": "UlrtWZ7Yousv"
      },
      "outputs": [],
      "source": [
        "# Split our preprocessed data into our features and target arrays\n",
        "X = application_df.drop(columns=['IS_SUCCESSFUL'])  # Features (excluding the target column)\n",
        "y = application_df['IS_SUCCESSFUL']  # Target variable\n",
        "\n",
        "# Split the preprocessed data into a training and testing dataset\n",
        "X_train, X_test, y_train, y_test = train_test_split(X, y, random_state=1)"
      ]
    },
    {
      "cell_type": "code",
      "execution_count": 87,
      "metadata": {
        "id": "On3OK9hVousv"
      },
      "outputs": [],
      "source": [
        "import sklearn as skl\n",
        "\n",
        "# Create scaler instance\n",
        "scaler = skl.preprocessing.StandardScaler()\n",
        "\n",
        "# Fit the StandardScaler\n",
        "X_scaler = scaler.fit(X_train)\n",
        "\n",
        "# Scale the data\n",
        "X_train_scaled = X_scaler.transform(X_train)\n",
        "X_test_scaled = X_scaler.transform(X_test)"
      ]
    },
    {
      "cell_type": "code",
      "source": [],
      "metadata": {
        "id": "oDttIw1TrBw3"
      },
      "execution_count": 38,
      "outputs": []
    },
    {
      "cell_type": "markdown",
      "metadata": {
        "id": "UsZsu7CFousv"
      },
      "source": [
        "## Compile, Train and Evaluate the Model"
      ]
    },
    {
      "cell_type": "code",
      "execution_count": 88,
      "metadata": {
        "id": "FJI3YH3vousv"
      },
      "outputs": [],
      "source": [
        "# Define the model - deep neural net, i.e., the number of input features and hidden nodes for each layer.\n",
        "def create_model(hp):\n",
        "    nn_model = tf.keras.models.Sequential()\n",
        "\n",
        "    # Allow kerastuner to decide which activation function to use in hidden layers\n",
        "    activation = hp.Choice('activation', ['relu', 'tanh', 'sigmoid'])\n",
        "\n",
        "    # Number of input features\n",
        "    input_dim = X_train_scaled.shape[1]  # Assumes the shape of X_train_scaled\n",
        "\n",
        "    # Number of hidden layers\n",
        "    num_layers = hp.Int('num_layers', 1, 6)\n",
        "\n",
        "    # Number of neurons in each hidden layer\n",
        "    for i in range(num_layers):\n",
        "        nn_model.add(tf.keras.layers.Dense(\n",
        "            units=hp.Int(f'units_{i}', min_value=1, max_value=10, step=2),\n",
        "            activation=activation))\n",
        "\n",
        "    nn_model.add(tf.keras.layers.Dense(units=1, activation=\"sigmoid\"))\n",
        "\n",
        "    # Compile the model\n",
        "    nn_model.compile(loss=\"binary_crossentropy\", optimizer='adam', metrics=[\"accuracy\"])\n",
        "\n",
        "    return nn_model"
      ]
    },
    {
      "cell_type": "code",
      "execution_count": 89,
      "metadata": {
        "colab": {
          "base_uri": "https://localhost:8080/"
        },
        "id": "Pp5Wm280ousv",
        "outputId": "83d198d3-5c81-4b45-dafb-05f8c0ea7c97"
      },
      "outputs": [
        {
          "output_type": "stream",
          "name": "stdout",
          "text": [
            "Reloading Tuner from ./untitled_project/tuner0.json\n"
          ]
        }
      ],
      "source": [
        "# Initialize the Keras Tuner\n",
        "# Initialize the Keras Tuner\n",
        "tuner = kt.Hyperband(\n",
        "    create_model,\n",
        "    objective=\"val_accuracy\",  # Use \"val_accuracy\" if you have a validation set\n",
        "    max_epochs=100,  # Set the number of epochs to 100\n",
        "    factor=3,  # Factor for reducing the number of models\n",
        ")\n"
      ]
    },
    {
      "cell_type": "code",
      "execution_count": 90,
      "metadata": {
        "id": "pcUJvtvmousv"
      },
      "outputs": [],
      "source": [
        "# Run the kerastuner search for best hyperparameters\n",
        "tuner.search(X_train_scaled, y_train, validation_data=(X_test_scaled, y_test))\n"
      ]
    },
    {
      "cell_type": "code",
      "execution_count": 91,
      "metadata": {
        "id": "QyDG7RUDousv"
      },
      "outputs": [],
      "source": [
        "# Get the best hyperparameters\n",
        "best_hps = tuner.get_best_hyperparameters(num_trials=1)[0]\n"
      ]
    },
    {
      "cell_type": "code",
      "execution_count": 92,
      "metadata": {
        "colab": {
          "base_uri": "https://localhost:8080/"
        },
        "id": "zmvykwTiousw",
        "outputId": "26db5c0b-f30e-460c-d05d-299959ff3dba"
      },
      "outputs": [
        {
          "output_type": "stream",
          "name": "stdout",
          "text": [
            "Best Activation Function: tanh\n",
            "Best Number of Hidden Layers: 2\n",
            "Best Number of Neurons in Each Hidden Layer: [5, 1]\n"
          ]
        }
      ],
      "source": [
        "# Access the values of the best hyperparameters\n",
        "best_activation = best_hps.get('activation')\n",
        "best_num_layers = best_hps.get('num_layers')\n",
        "best_units = [best_hps.get(f'units_{i}') for i in range(best_num_layers)]\n",
        "\n",
        "print(\"Best Activation Function:\", best_activation)\n",
        "print(\"Best Number of Hidden Layers:\", best_num_layers)\n",
        "print(\"Best Number of Neurons in Each Hidden Layer:\", best_units)"
      ]
    },
    {
      "cell_type": "code",
      "source": [
        "# Define the model using the best hyperparameters\n",
        "def create_best_model():\n",
        "    nn_model = tf.keras.models.Sequential()\n",
        "\n",
        "    # Set the activation function based on the best hyperparameter\n",
        "    activation = best_activation\n",
        "\n",
        "    # Number of input features\n",
        "    input_dim = X_train_scaled.shape[1]  # Assumes the shape of X_train_scaled\n",
        "\n",
        "    # Number of hidden layers\n",
        "    num_layers = best_num_layers\n",
        "\n",
        "    # Number of neurons in each hidden layer based on the best hyperparameters\n",
        "    for i in range(num_layers):\n",
        "        nn_model.add(tf.keras.layers.Dense(\n",
        "            units=best_units[i],\n",
        "            activation=activation))\n",
        "\n",
        "    nn_model.add(tf.keras.layers.Dense(units=1, activation=\"sigmoid\"))\n",
        "\n",
        "    # Compile the model\n",
        "    nn_model.compile(loss=\"binary_crossentropy\", optimizer='adam', metrics=[\"accuracy\"])\n",
        "\n",
        "    return nn_model"
      ],
      "metadata": {
        "id": "_1D0GeSMBZjT"
      },
      "execution_count": 93,
      "outputs": []
    },
    {
      "cell_type": "code",
      "source": [
        "# Create the best model\n",
        "best_model = create_best_model()\n"
      ],
      "metadata": {
        "id": "FdzGuewqBaLg"
      },
      "execution_count": 94,
      "outputs": []
    },
    {
      "cell_type": "code",
      "source": [
        "# Train the best model with the fixed number of epochs (e.g., 100)\n",
        "best_model.fit(X_train_scaled, y_train, epochs=100, validation_data=(X_test_scaled, y_test))"
      ],
      "metadata": {
        "colab": {
          "base_uri": "https://localhost:8080/"
        },
        "id": "7ADFqIPOBaTn",
        "outputId": "c0c076ac-d39b-4327-abc3-f6d4f77aa367"
      },
      "execution_count": 95,
      "outputs": [
        {
          "output_type": "stream",
          "name": "stdout",
          "text": [
            "Epoch 1/100\n",
            "804/804 [==============================] - 4s 4ms/step - loss: 0.6276 - accuracy: 0.6660 - val_loss: 0.5814 - val_accuracy: 0.7297\n",
            "Epoch 2/100\n",
            "804/804 [==============================] - 4s 5ms/step - loss: 0.5759 - accuracy: 0.7278 - val_loss: 0.5726 - val_accuracy: 0.7304\n",
            "Epoch 3/100\n",
            "804/804 [==============================] - 3s 4ms/step - loss: 0.5704 - accuracy: 0.7294 - val_loss: 0.5688 - val_accuracy: 0.7318\n",
            "Epoch 4/100\n",
            "804/804 [==============================] - 3s 3ms/step - loss: 0.5661 - accuracy: 0.7305 - val_loss: 0.5651 - val_accuracy: 0.7291\n",
            "Epoch 5/100\n",
            "804/804 [==============================] - 3s 3ms/step - loss: 0.5619 - accuracy: 0.7309 - val_loss: 0.5624 - val_accuracy: 0.7308\n",
            "Epoch 6/100\n",
            "804/804 [==============================] - 3s 3ms/step - loss: 0.5595 - accuracy: 0.7304 - val_loss: 0.5601 - val_accuracy: 0.7291\n",
            "Epoch 7/100\n",
            "804/804 [==============================] - 3s 4ms/step - loss: 0.5576 - accuracy: 0.7309 - val_loss: 0.5594 - val_accuracy: 0.7285\n",
            "Epoch 8/100\n",
            "804/804 [==============================] - 2s 3ms/step - loss: 0.5565 - accuracy: 0.7303 - val_loss: 0.5584 - val_accuracy: 0.7299\n",
            "Epoch 9/100\n",
            "804/804 [==============================] - 3s 3ms/step - loss: 0.5558 - accuracy: 0.7313 - val_loss: 0.5576 - val_accuracy: 0.7297\n",
            "Epoch 10/100\n",
            "804/804 [==============================] - 3s 3ms/step - loss: 0.5547 - accuracy: 0.7313 - val_loss: 0.5574 - val_accuracy: 0.7315\n",
            "Epoch 11/100\n",
            "804/804 [==============================] - 2s 2ms/step - loss: 0.5541 - accuracy: 0.7314 - val_loss: 0.5577 - val_accuracy: 0.7296\n",
            "Epoch 12/100\n",
            "804/804 [==============================] - 3s 4ms/step - loss: 0.5535 - accuracy: 0.7318 - val_loss: 0.5560 - val_accuracy: 0.7315\n",
            "Epoch 13/100\n",
            "804/804 [==============================] - 3s 3ms/step - loss: 0.5534 - accuracy: 0.7312 - val_loss: 0.5568 - val_accuracy: 0.7283\n",
            "Epoch 14/100\n",
            "804/804 [==============================] - 3s 3ms/step - loss: 0.5525 - accuracy: 0.7315 - val_loss: 0.5572 - val_accuracy: 0.7290\n",
            "Epoch 15/100\n",
            "804/804 [==============================] - 3s 3ms/step - loss: 0.5522 - accuracy: 0.7321 - val_loss: 0.5564 - val_accuracy: 0.7293\n",
            "Epoch 16/100\n",
            "804/804 [==============================] - 5s 6ms/step - loss: 0.5517 - accuracy: 0.7325 - val_loss: 0.5572 - val_accuracy: 0.7261\n",
            "Epoch 17/100\n",
            "804/804 [==============================] - 3s 4ms/step - loss: 0.5513 - accuracy: 0.7309 - val_loss: 0.5565 - val_accuracy: 0.7276\n",
            "Epoch 18/100\n",
            "804/804 [==============================] - 3s 4ms/step - loss: 0.5516 - accuracy: 0.7334 - val_loss: 0.5555 - val_accuracy: 0.7292\n",
            "Epoch 19/100\n",
            "804/804 [==============================] - 3s 4ms/step - loss: 0.5510 - accuracy: 0.7323 - val_loss: 0.5557 - val_accuracy: 0.7303\n",
            "Epoch 20/100\n",
            "804/804 [==============================] - 4s 5ms/step - loss: 0.5508 - accuracy: 0.7320 - val_loss: 0.5554 - val_accuracy: 0.7289\n",
            "Epoch 21/100\n",
            "804/804 [==============================] - 3s 4ms/step - loss: 0.5505 - accuracy: 0.7323 - val_loss: 0.5563 - val_accuracy: 0.7279\n",
            "Epoch 22/100\n",
            "804/804 [==============================] - 3s 3ms/step - loss: 0.5505 - accuracy: 0.7320 - val_loss: 0.5555 - val_accuracy: 0.7292\n",
            "Epoch 23/100\n",
            "804/804 [==============================] - 3s 3ms/step - loss: 0.5501 - accuracy: 0.7322 - val_loss: 0.5551 - val_accuracy: 0.7306\n",
            "Epoch 24/100\n",
            "804/804 [==============================] - 3s 4ms/step - loss: 0.5500 - accuracy: 0.7315 - val_loss: 0.5547 - val_accuracy: 0.7296\n",
            "Epoch 25/100\n",
            "804/804 [==============================] - 3s 4ms/step - loss: 0.5499 - accuracy: 0.7323 - val_loss: 0.5547 - val_accuracy: 0.7282\n",
            "Epoch 26/100\n",
            "804/804 [==============================] - 2s 3ms/step - loss: 0.5497 - accuracy: 0.7324 - val_loss: 0.5549 - val_accuracy: 0.7292\n",
            "Epoch 27/100\n",
            "804/804 [==============================] - 4s 5ms/step - loss: 0.5495 - accuracy: 0.7320 - val_loss: 0.5543 - val_accuracy: 0.7315\n",
            "Epoch 28/100\n",
            "804/804 [==============================] - 3s 3ms/step - loss: 0.5492 - accuracy: 0.7321 - val_loss: 0.5552 - val_accuracy: 0.7291\n",
            "Epoch 29/100\n",
            "804/804 [==============================] - 4s 5ms/step - loss: 0.5491 - accuracy: 0.7327 - val_loss: 0.5551 - val_accuracy: 0.7301\n",
            "Epoch 30/100\n",
            "804/804 [==============================] - 3s 3ms/step - loss: 0.5489 - accuracy: 0.7331 - val_loss: 0.5543 - val_accuracy: 0.7294\n",
            "Epoch 31/100\n",
            "804/804 [==============================] - 3s 3ms/step - loss: 0.5488 - accuracy: 0.7324 - val_loss: 0.5542 - val_accuracy: 0.7300\n",
            "Epoch 32/100\n",
            "804/804 [==============================] - 3s 3ms/step - loss: 0.5486 - accuracy: 0.7331 - val_loss: 0.5540 - val_accuracy: 0.7289\n",
            "Epoch 33/100\n",
            "804/804 [==============================] - 4s 5ms/step - loss: 0.5485 - accuracy: 0.7321 - val_loss: 0.5530 - val_accuracy: 0.7343\n",
            "Epoch 34/100\n",
            "804/804 [==============================] - 3s 4ms/step - loss: 0.5485 - accuracy: 0.7328 - val_loss: 0.5537 - val_accuracy: 0.7322\n",
            "Epoch 35/100\n",
            "804/804 [==============================] - 2s 3ms/step - loss: 0.5483 - accuracy: 0.7335 - val_loss: 0.5542 - val_accuracy: 0.7334\n",
            "Epoch 36/100\n",
            "804/804 [==============================] - 2s 3ms/step - loss: 0.5483 - accuracy: 0.7327 - val_loss: 0.5548 - val_accuracy: 0.7320\n",
            "Epoch 37/100\n",
            "804/804 [==============================] - 2s 3ms/step - loss: 0.5483 - accuracy: 0.7326 - val_loss: 0.5537 - val_accuracy: 0.7293\n",
            "Epoch 38/100\n",
            "804/804 [==============================] - 3s 4ms/step - loss: 0.5480 - accuracy: 0.7319 - val_loss: 0.5535 - val_accuracy: 0.7306\n",
            "Epoch 39/100\n",
            "804/804 [==============================] - 3s 4ms/step - loss: 0.5479 - accuracy: 0.7335 - val_loss: 0.5548 - val_accuracy: 0.7313\n",
            "Epoch 40/100\n",
            "804/804 [==============================] - 3s 3ms/step - loss: 0.5478 - accuracy: 0.7331 - val_loss: 0.5534 - val_accuracy: 0.7314\n",
            "Epoch 41/100\n",
            "804/804 [==============================] - 2s 3ms/step - loss: 0.5476 - accuracy: 0.7329 - val_loss: 0.5533 - val_accuracy: 0.7305\n",
            "Epoch 42/100\n",
            "804/804 [==============================] - 3s 4ms/step - loss: 0.5475 - accuracy: 0.7344 - val_loss: 0.5531 - val_accuracy: 0.7308\n",
            "Epoch 43/100\n",
            "804/804 [==============================] - 3s 4ms/step - loss: 0.5477 - accuracy: 0.7331 - val_loss: 0.5537 - val_accuracy: 0.7334\n",
            "Epoch 44/100\n",
            "804/804 [==============================] - 2s 3ms/step - loss: 0.5476 - accuracy: 0.7331 - val_loss: 0.5555 - val_accuracy: 0.7296\n",
            "Epoch 45/100\n",
            "804/804 [==============================] - 2s 3ms/step - loss: 0.5478 - accuracy: 0.7324 - val_loss: 0.5529 - val_accuracy: 0.7325\n",
            "Epoch 46/100\n",
            "804/804 [==============================] - 2s 2ms/step - loss: 0.5474 - accuracy: 0.7320 - val_loss: 0.5541 - val_accuracy: 0.7332\n",
            "Epoch 47/100\n",
            "804/804 [==============================] - 2s 2ms/step - loss: 0.5473 - accuracy: 0.7330 - val_loss: 0.5525 - val_accuracy: 0.7314\n",
            "Epoch 48/100\n",
            "804/804 [==============================] - 3s 3ms/step - loss: 0.5474 - accuracy: 0.7328 - val_loss: 0.5530 - val_accuracy: 0.7343\n",
            "Epoch 49/100\n",
            "804/804 [==============================] - 4s 5ms/step - loss: 0.5471 - accuracy: 0.7330 - val_loss: 0.5533 - val_accuracy: 0.7305\n",
            "Epoch 50/100\n",
            "804/804 [==============================] - 3s 3ms/step - loss: 0.5472 - accuracy: 0.7331 - val_loss: 0.5533 - val_accuracy: 0.7318\n",
            "Epoch 51/100\n",
            "804/804 [==============================] - 3s 3ms/step - loss: 0.5471 - accuracy: 0.7335 - val_loss: 0.5546 - val_accuracy: 0.7299\n",
            "Epoch 52/100\n",
            "804/804 [==============================] - 3s 3ms/step - loss: 0.5473 - accuracy: 0.7328 - val_loss: 0.5533 - val_accuracy: 0.7300\n",
            "Epoch 53/100\n",
            "804/804 [==============================] - 4s 5ms/step - loss: 0.5473 - accuracy: 0.7328 - val_loss: 0.5528 - val_accuracy: 0.7314\n",
            "Epoch 54/100\n",
            "804/804 [==============================] - 4s 6ms/step - loss: 0.5473 - accuracy: 0.7328 - val_loss: 0.5527 - val_accuracy: 0.7338\n",
            "Epoch 55/100\n",
            "804/804 [==============================] - 3s 4ms/step - loss: 0.5470 - accuracy: 0.7339 - val_loss: 0.5541 - val_accuracy: 0.7308\n",
            "Epoch 56/100\n",
            "804/804 [==============================] - 3s 4ms/step - loss: 0.5471 - accuracy: 0.7329 - val_loss: 0.5536 - val_accuracy: 0.7336\n",
            "Epoch 57/100\n",
            "804/804 [==============================] - 4s 5ms/step - loss: 0.5469 - accuracy: 0.7341 - val_loss: 0.5544 - val_accuracy: 0.7306\n",
            "Epoch 58/100\n",
            "804/804 [==============================] - 3s 4ms/step - loss: 0.5471 - accuracy: 0.7339 - val_loss: 0.5529 - val_accuracy: 0.7317\n",
            "Epoch 59/100\n",
            "804/804 [==============================] - 3s 3ms/step - loss: 0.5471 - accuracy: 0.7327 - val_loss: 0.5526 - val_accuracy: 0.7315\n",
            "Epoch 60/100\n",
            "804/804 [==============================] - 3s 4ms/step - loss: 0.5470 - accuracy: 0.7334 - val_loss: 0.5528 - val_accuracy: 0.7320\n",
            "Epoch 61/100\n",
            "804/804 [==============================] - 5s 6ms/step - loss: 0.5468 - accuracy: 0.7331 - val_loss: 0.5532 - val_accuracy: 0.7311\n",
            "Epoch 62/100\n",
            "804/804 [==============================] - 3s 4ms/step - loss: 0.5469 - accuracy: 0.7334 - val_loss: 0.5529 - val_accuracy: 0.7308\n",
            "Epoch 63/100\n",
            "804/804 [==============================] - 3s 4ms/step - loss: 0.5466 - accuracy: 0.7343 - val_loss: 0.5532 - val_accuracy: 0.7339\n",
            "Epoch 64/100\n",
            "804/804 [==============================] - 3s 4ms/step - loss: 0.5468 - accuracy: 0.7340 - val_loss: 0.5532 - val_accuracy: 0.7301\n",
            "Epoch 65/100\n",
            "804/804 [==============================] - 4s 5ms/step - loss: 0.5469 - accuracy: 0.7331 - val_loss: 0.5531 - val_accuracy: 0.7319\n",
            "Epoch 66/100\n",
            "804/804 [==============================] - 3s 4ms/step - loss: 0.5468 - accuracy: 0.7340 - val_loss: 0.5529 - val_accuracy: 0.7312\n",
            "Epoch 67/100\n",
            "804/804 [==============================] - 3s 3ms/step - loss: 0.5469 - accuracy: 0.7328 - val_loss: 0.5526 - val_accuracy: 0.7339\n",
            "Epoch 68/100\n",
            "804/804 [==============================] - 3s 4ms/step - loss: 0.5466 - accuracy: 0.7330 - val_loss: 0.5532 - val_accuracy: 0.7320\n",
            "Epoch 69/100\n",
            "804/804 [==============================] - 4s 4ms/step - loss: 0.5466 - accuracy: 0.7336 - val_loss: 0.5528 - val_accuracy: 0.7297\n",
            "Epoch 70/100\n",
            "804/804 [==============================] - 3s 4ms/step - loss: 0.5467 - accuracy: 0.7340 - val_loss: 0.5533 - val_accuracy: 0.7303\n",
            "Epoch 71/100\n",
            "804/804 [==============================] - 3s 3ms/step - loss: 0.5467 - accuracy: 0.7320 - val_loss: 0.5528 - val_accuracy: 0.7301\n",
            "Epoch 72/100\n",
            "804/804 [==============================] - 3s 3ms/step - loss: 0.5468 - accuracy: 0.7324 - val_loss: 0.5525 - val_accuracy: 0.7342\n",
            "Epoch 73/100\n",
            "804/804 [==============================] - 2s 3ms/step - loss: 0.5466 - accuracy: 0.7343 - val_loss: 0.5524 - val_accuracy: 0.7312\n",
            "Epoch 74/100\n",
            "804/804 [==============================] - 3s 4ms/step - loss: 0.5464 - accuracy: 0.7331 - val_loss: 0.5531 - val_accuracy: 0.7317\n",
            "Epoch 75/100\n",
            "804/804 [==============================] - 3s 4ms/step - loss: 0.5466 - accuracy: 0.7348 - val_loss: 0.5527 - val_accuracy: 0.7310\n",
            "Epoch 76/100\n",
            "804/804 [==============================] - 3s 3ms/step - loss: 0.5465 - accuracy: 0.7337 - val_loss: 0.5523 - val_accuracy: 0.7333\n",
            "Epoch 77/100\n",
            "804/804 [==============================] - 3s 3ms/step - loss: 0.5464 - accuracy: 0.7342 - val_loss: 0.5528 - val_accuracy: 0.7325\n",
            "Epoch 78/100\n",
            "804/804 [==============================] - 3s 3ms/step - loss: 0.5464 - accuracy: 0.7339 - val_loss: 0.5529 - val_accuracy: 0.7307\n",
            "Epoch 79/100\n",
            "804/804 [==============================] - 5s 6ms/step - loss: 0.5464 - accuracy: 0.7336 - val_loss: 0.5529 - val_accuracy: 0.7317\n",
            "Epoch 80/100\n",
            "804/804 [==============================] - 3s 4ms/step - loss: 0.5464 - accuracy: 0.7344 - val_loss: 0.5529 - val_accuracy: 0.7338\n",
            "Epoch 81/100\n",
            "804/804 [==============================] - 3s 4ms/step - loss: 0.5465 - accuracy: 0.7337 - val_loss: 0.5526 - val_accuracy: 0.7319\n",
            "Epoch 82/100\n",
            "804/804 [==============================] - 3s 4ms/step - loss: 0.5466 - accuracy: 0.7340 - val_loss: 0.5527 - val_accuracy: 0.7332\n",
            "Epoch 83/100\n",
            "804/804 [==============================] - 4s 6ms/step - loss: 0.5462 - accuracy: 0.7341 - val_loss: 0.5525 - val_accuracy: 0.7338\n",
            "Epoch 84/100\n",
            "804/804 [==============================] - 3s 4ms/step - loss: 0.5464 - accuracy: 0.7344 - val_loss: 0.5530 - val_accuracy: 0.7305\n",
            "Epoch 85/100\n",
            "804/804 [==============================] - 6s 8ms/step - loss: 0.5463 - accuracy: 0.7345 - val_loss: 0.5537 - val_accuracy: 0.7298\n",
            "Epoch 86/100\n",
            "804/804 [==============================] - 8s 10ms/step - loss: 0.5463 - accuracy: 0.7343 - val_loss: 0.5525 - val_accuracy: 0.7347\n",
            "Epoch 87/100\n",
            "804/804 [==============================] - 3s 4ms/step - loss: 0.5463 - accuracy: 0.7341 - val_loss: 0.5525 - val_accuracy: 0.7346\n",
            "Epoch 88/100\n",
            "804/804 [==============================] - 3s 3ms/step - loss: 0.5463 - accuracy: 0.7337 - val_loss: 0.5536 - val_accuracy: 0.7308\n",
            "Epoch 89/100\n",
            "804/804 [==============================] - 4s 5ms/step - loss: 0.5462 - accuracy: 0.7337 - val_loss: 0.5539 - val_accuracy: 0.7283\n",
            "Epoch 90/100\n",
            "804/804 [==============================] - 3s 4ms/step - loss: 0.5460 - accuracy: 0.7337 - val_loss: 0.5537 - val_accuracy: 0.7298\n",
            "Epoch 91/100\n",
            "804/804 [==============================] - 3s 4ms/step - loss: 0.5462 - accuracy: 0.7344 - val_loss: 0.5525 - val_accuracy: 0.7345\n",
            "Epoch 92/100\n",
            "804/804 [==============================] - 3s 4ms/step - loss: 0.5461 - accuracy: 0.7344 - val_loss: 0.5525 - val_accuracy: 0.7341\n",
            "Epoch 93/100\n",
            "804/804 [==============================] - 5s 6ms/step - loss: 0.5462 - accuracy: 0.7349 - val_loss: 0.5522 - val_accuracy: 0.7335\n",
            "Epoch 94/100\n",
            "804/804 [==============================] - 4s 5ms/step - loss: 0.5463 - accuracy: 0.7336 - val_loss: 0.5525 - val_accuracy: 0.7334\n",
            "Epoch 95/100\n",
            "804/804 [==============================] - 3s 3ms/step - loss: 0.5460 - accuracy: 0.7345 - val_loss: 0.5525 - val_accuracy: 0.7301\n",
            "Epoch 96/100\n",
            "804/804 [==============================] - 3s 3ms/step - loss: 0.5459 - accuracy: 0.7344 - val_loss: 0.5537 - val_accuracy: 0.7320\n",
            "Epoch 97/100\n",
            "804/804 [==============================] - 3s 4ms/step - loss: 0.5464 - accuracy: 0.7333 - val_loss: 0.5520 - val_accuracy: 0.7355\n",
            "Epoch 98/100\n",
            "804/804 [==============================] - 4s 5ms/step - loss: 0.5459 - accuracy: 0.7336 - val_loss: 0.5535 - val_accuracy: 0.7317\n",
            "Epoch 99/100\n",
            "804/804 [==============================] - 3s 3ms/step - loss: 0.5459 - accuracy: 0.7333 - val_loss: 0.5526 - val_accuracy: 0.7318\n",
            "Epoch 100/100\n",
            "804/804 [==============================] - 3s 3ms/step - loss: 0.5459 - accuracy: 0.7348 - val_loss: 0.5521 - val_accuracy: 0.7328\n"
          ]
        },
        {
          "output_type": "execute_result",
          "data": {
            "text/plain": [
              "<keras.src.callbacks.History at 0x7adbd9440e80>"
            ]
          },
          "metadata": {},
          "execution_count": 95
        }
      ]
    },
    {
      "cell_type": "code",
      "source": [
        "# Evaluate the model using the test data - With 100 epochs (-.001 from original)\n",
        "model_loss, model_accuracy = best_model.evaluate(X_test_scaled,y_test,verbose=2)\n",
        "print(f\"Loss: {model_loss}, Accuracy: {model_accuracy}\")"
      ],
      "metadata": {
        "colab": {
          "base_uri": "https://localhost:8080/"
        },
        "id": "U6ygVe75BaYM",
        "outputId": "fb713e04-be25-4045-e066-2d515aaf49eb"
      },
      "execution_count": 73,
      "outputs": [
        {
          "output_type": "stream",
          "name": "stdout",
          "text": [
            "268/268 - 0s - loss: 0.5560 - accuracy: 0.7285 - 410ms/epoch - 2ms/step\n",
            "Loss: 0.5560060739517212, Accuracy: 0.7285131216049194\n"
          ]
        }
      ]
    },
    {
      "cell_type": "code",
      "source": [
        "# Evaluate the model using the test data - With 50 epochs (-.003 from original)\n",
        "model_loss, model_accuracy = best_model.evaluate(X_test_scaled,y_test,verbose=2)\n",
        "print(f\"Loss: {model_loss}, Accuracy: {model_accuracy}\")"
      ],
      "metadata": {
        "colab": {
          "base_uri": "https://localhost:8080/"
        },
        "id": "AbFj2e3uBabq",
        "outputId": "bc07eab2-a4e4-4f20-ecce-b1889a550ffc"
      },
      "execution_count": 75,
      "outputs": [
        {
          "output_type": "stream",
          "name": "stdout",
          "text": [
            "268/268 - 0s - loss: 0.5558 - accuracy: 0.7284 - 493ms/epoch - 2ms/step\n",
            "Loss: 0.555846095085144, Accuracy: 0.728396475315094\n"
          ]
        }
      ]
    },
    {
      "cell_type": "code",
      "source": [
        "# Evaluate the model using the test data - With 100 epochs and no EIN\n",
        "model_loss, model_accuracy = best_model.evaluate(X_test_scaled,y_test,verbose=2)\n",
        "print(f\"Loss: {model_loss}, Accuracy: {model_accuracy}\")"
      ],
      "metadata": {
        "colab": {
          "base_uri": "https://localhost:8080/"
        },
        "id": "PiphqrMbBae-",
        "outputId": "207f4d30-b781-4cba-a181-97288b069363"
      },
      "execution_count": 96,
      "outputs": [
        {
          "output_type": "stream",
          "name": "stdout",
          "text": [
            "268/268 - 0s - loss: 0.5521 - accuracy: 0.7328 - 451ms/epoch - 2ms/step\n",
            "Loss: 0.5521038174629211, Accuracy: 0.7328279614448547\n"
          ]
        }
      ]
    },
    {
      "cell_type": "code",
      "source": [
        "from google.colab import files\n",
        "\n",
        "# Define the file path for the desktop directory\n",
        "desktop_path = os.path.expanduser(\"~/Desktop\")  # \"~\" represents the user's home directory\n",
        "\n",
        "# Define the complete file path including the filename\n",
        "file_path = os.path.join(desktop_path, \"AlphabetSoupCharity_Optimization.h5\")\n",
        "\n",
        "# Save the model to the specified file path\n",
        "best_model.save(file_path)\n",
        "\n",
        "# Use the `files` module to download the file to your local machine (desktop)\n",
        "files.download(file_path)\n",
        "\n",
        "# Print a message for confirmation\n",
        "print(f\"Model saved to: {file_path} and downloaded to your local machine.\")\n"
      ],
      "metadata": {
        "colab": {
          "base_uri": "https://localhost:8080/",
          "height": 34
        },
        "id": "pN6XCbf6BaiV",
        "outputId": "e4991740-8a3f-4aef-c411-4841500b978c"
      },
      "execution_count": 99,
      "outputs": [
        {
          "output_type": "display_data",
          "data": {
            "text/plain": [
              "<IPython.core.display.Javascript object>"
            ],
            "application/javascript": [
              "\n",
              "    async function download(id, filename, size) {\n",
              "      if (!google.colab.kernel.accessAllowed) {\n",
              "        return;\n",
              "      }\n",
              "      const div = document.createElement('div');\n",
              "      const label = document.createElement('label');\n",
              "      label.textContent = `Downloading \"${filename}\": `;\n",
              "      div.appendChild(label);\n",
              "      const progress = document.createElement('progress');\n",
              "      progress.max = size;\n",
              "      div.appendChild(progress);\n",
              "      document.body.appendChild(div);\n",
              "\n",
              "      const buffers = [];\n",
              "      let downloaded = 0;\n",
              "\n",
              "      const channel = await google.colab.kernel.comms.open(id);\n",
              "      // Send a message to notify the kernel that we're ready.\n",
              "      channel.send({})\n",
              "\n",
              "      for await (const message of channel.messages) {\n",
              "        // Send a message to notify the kernel that we're ready.\n",
              "        channel.send({})\n",
              "        if (message.buffers) {\n",
              "          for (const buffer of message.buffers) {\n",
              "            buffers.push(buffer);\n",
              "            downloaded += buffer.byteLength;\n",
              "            progress.value = downloaded;\n",
              "          }\n",
              "        }\n",
              "      }\n",
              "      const blob = new Blob(buffers, {type: 'application/binary'});\n",
              "      const a = document.createElement('a');\n",
              "      a.href = window.URL.createObjectURL(blob);\n",
              "      a.download = filename;\n",
              "      div.appendChild(a);\n",
              "      a.click();\n",
              "      div.remove();\n",
              "    }\n",
              "  "
            ]
          },
          "metadata": {}
        },
        {
          "output_type": "display_data",
          "data": {
            "text/plain": [
              "<IPython.core.display.Javascript object>"
            ],
            "application/javascript": [
              "download(\"download_6128dde7-52c3-4300-8431-f37f403b1c0f\", \"AlphabetSoupCharity_Optimization.h5\", 34240)"
            ]
          },
          "metadata": {}
        },
        {
          "output_type": "stream",
          "name": "stdout",
          "text": [
            "Model saved to: /root/Desktop/AlphabetSoupCharity_Optimization.h5 and downloaded to your local machine.\n"
          ]
        }
      ]
    },
    {
      "cell_type": "code",
      "source": [],
      "metadata": {
        "id": "jcr7XBizBalz"
      },
      "execution_count": null,
      "outputs": []
    },
    {
      "cell_type": "code",
      "source": [],
      "metadata": {
        "id": "ft-z0k6qBapq"
      },
      "execution_count": null,
      "outputs": []
    }
  ],
  "metadata": {
    "kernelspec": {
      "display_name": "Python 3",
      "language": "python",
      "name": "python3"
    },
    "language_info": {
      "codemirror_mode": {
        "name": "ipython",
        "version": 3
      },
      "file_extension": ".py",
      "mimetype": "text/x-python",
      "name": "python",
      "nbconvert_exporter": "python",
      "pygments_lexer": "ipython3",
      "version": "3.10.11"
    },
    "vscode": {
      "interpreter": {
        "hash": "31f2aee4e71d21fbe5cf8b01ff0e069b9275f58929596ceb00d14d90e3e16cd6"
      }
    },
    "colab": {
      "provenance": [],
      "include_colab_link": true
    }
  },
  "nbformat": 4,
  "nbformat_minor": 0
}