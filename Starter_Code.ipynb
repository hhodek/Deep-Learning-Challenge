{
 "cells": [
  {
   "cell_type": "markdown",
   "metadata": {},
   "source": [
    "## Preprocessing"
   ]
  },
  {
   "cell_type": "code",
   "execution_count": 13,
   "metadata": {},
   "outputs": [
    {
     "data": {
      "text/html": [
       "<div>\n",
       "<style scoped>\n",
       "    .dataframe tbody tr th:only-of-type {\n",
       "        vertical-align: middle;\n",
       "    }\n",
       "\n",
       "    .dataframe tbody tr th {\n",
       "        vertical-align: top;\n",
       "    }\n",
       "\n",
       "    .dataframe thead th {\n",
       "        text-align: right;\n",
       "    }\n",
       "</style>\n",
       "<table border=\"1\" class=\"dataframe\">\n",
       "  <thead>\n",
       "    <tr style=\"text-align: right;\">\n",
       "      <th></th>\n",
       "      <th>EIN</th>\n",
       "      <th>NAME</th>\n",
       "      <th>APPLICATION_TYPE</th>\n",
       "      <th>AFFILIATION</th>\n",
       "      <th>CLASSIFICATION</th>\n",
       "      <th>USE_CASE</th>\n",
       "      <th>ORGANIZATION</th>\n",
       "      <th>STATUS</th>\n",
       "      <th>INCOME_AMT</th>\n",
       "      <th>SPECIAL_CONSIDERATIONS</th>\n",
       "      <th>ASK_AMT</th>\n",
       "      <th>IS_SUCCESSFUL</th>\n",
       "    </tr>\n",
       "  </thead>\n",
       "  <tbody>\n",
       "    <tr>\n",
       "      <th>0</th>\n",
       "      <td>10520599</td>\n",
       "      <td>BLUE KNIGHTS MOTORCYCLE CLUB</td>\n",
       "      <td>T10</td>\n",
       "      <td>Independent</td>\n",
       "      <td>C1000</td>\n",
       "      <td>ProductDev</td>\n",
       "      <td>Association</td>\n",
       "      <td>1</td>\n",
       "      <td>0</td>\n",
       "      <td>N</td>\n",
       "      <td>5000</td>\n",
       "      <td>1</td>\n",
       "    </tr>\n",
       "    <tr>\n",
       "      <th>1</th>\n",
       "      <td>10531628</td>\n",
       "      <td>AMERICAN CHESAPEAKE CLUB CHARITABLE TR</td>\n",
       "      <td>T3</td>\n",
       "      <td>Independent</td>\n",
       "      <td>C2000</td>\n",
       "      <td>Preservation</td>\n",
       "      <td>Co-operative</td>\n",
       "      <td>1</td>\n",
       "      <td>1-9999</td>\n",
       "      <td>N</td>\n",
       "      <td>108590</td>\n",
       "      <td>1</td>\n",
       "    </tr>\n",
       "    <tr>\n",
       "      <th>2</th>\n",
       "      <td>10547893</td>\n",
       "      <td>ST CLOUD PROFESSIONAL FIREFIGHTERS</td>\n",
       "      <td>T5</td>\n",
       "      <td>CompanySponsored</td>\n",
       "      <td>C3000</td>\n",
       "      <td>ProductDev</td>\n",
       "      <td>Association</td>\n",
       "      <td>1</td>\n",
       "      <td>0</td>\n",
       "      <td>N</td>\n",
       "      <td>5000</td>\n",
       "      <td>0</td>\n",
       "    </tr>\n",
       "  </tbody>\n",
       "</table>\n",
       "</div>"
      ],
      "text/plain": [
       "        EIN                                    NAME APPLICATION_TYPE  \\\n",
       "0  10520599            BLUE KNIGHTS MOTORCYCLE CLUB              T10   \n",
       "1  10531628  AMERICAN CHESAPEAKE CLUB CHARITABLE TR               T3   \n",
       "2  10547893      ST CLOUD PROFESSIONAL FIREFIGHTERS               T5   \n",
       "\n",
       "        AFFILIATION CLASSIFICATION      USE_CASE  ORGANIZATION  STATUS  \\\n",
       "0       Independent          C1000    ProductDev   Association       1   \n",
       "1       Independent          C2000  Preservation  Co-operative       1   \n",
       "2  CompanySponsored          C3000    ProductDev   Association       1   \n",
       "\n",
       "  INCOME_AMT SPECIAL_CONSIDERATIONS  ASK_AMT  IS_SUCCESSFUL  \n",
       "0          0                      N     5000              1  \n",
       "1     1-9999                      N   108590              1  \n",
       "2          0                      N     5000              0  "
      ]
     },
     "execution_count": 13,
     "metadata": {},
     "output_type": "execute_result"
    }
   ],
   "source": [
    "# Import our dependencies\n",
    "from sklearn.model_selection import train_test_split\n",
    "from sklearn.preprocessing import StandardScaler\n",
    "import pandas as pd\n",
    "import tensorflow as tf\n",
    "\n",
    "#  Import and read the charity_data.csv.\n",
    "import pandas as pd \n",
    "application_df = pd.read_csv(\"https://static.bc-edx.com/data/dl-1-2/m21/lms/starter/charity_data.csv\")\n",
    "application_df.head(3)"
   ]
  },
  {
   "cell_type": "code",
   "execution_count": 2,
   "metadata": {},
   "outputs": [],
   "source": [
    "# Drop the non-beneficial ID columns, 'EIN' and 'NAME'.\n",
    "application_df = application_df.drop(['EIN', 'NAME'], axis=1)"
   ]
  },
  {
   "cell_type": "code",
   "execution_count": 3,
   "metadata": {},
   "outputs": [
    {
     "name": "stdout",
     "output_type": "stream",
     "text": [
      "APPLICATION_TYPE            17\n",
      "AFFILIATION                  6\n",
      "CLASSIFICATION              71\n",
      "USE_CASE                     5\n",
      "ORGANIZATION                 4\n",
      "STATUS                       2\n",
      "INCOME_AMT                   9\n",
      "SPECIAL_CONSIDERATIONS       2\n",
      "ASK_AMT                   8747\n",
      "IS_SUCCESSFUL                2\n",
      "dtype: int64\n"
     ]
    }
   ],
   "source": [
    "# Determine the number of unique values in each column.\n",
    "unique_counts = application_df.nunique()\n",
    "print(unique_counts)"
   ]
  },
  {
   "cell_type": "code",
   "execution_count": 4,
   "metadata": {},
   "outputs": [
    {
     "name": "stdout",
     "output_type": "stream",
     "text": [
      "T3     27037\n",
      "T4      1542\n",
      "T6      1216\n",
      "T5      1173\n",
      "T19     1065\n",
      "T8       737\n",
      "T7       725\n",
      "T10      528\n",
      "T9       156\n",
      "T13       66\n",
      "T12       27\n",
      "T2        16\n",
      "T25        3\n",
      "T14        3\n",
      "T29        2\n",
      "T15        2\n",
      "T17        1\n",
      "Name: APPLICATION_TYPE, dtype: int64\n"
     ]
    }
   ],
   "source": [
    "# Look at APPLICATION_TYPE value counts for binning\n",
    "application_type_counts = application_df['APPLICATION_TYPE'].value_counts()\n",
    "print(application_type_counts)"
   ]
  },
  {
   "cell_type": "code",
   "execution_count": 5,
   "metadata": {},
   "outputs": [
    {
     "data": {
      "text/plain": [
       "T3       27037\n",
       "T4        1542\n",
       "T6        1216\n",
       "T5        1173\n",
       "T19       1065\n",
       "T8         737\n",
       "T7         725\n",
       "T10        528\n",
       "Other      276\n",
       "Name: APPLICATION_TYPE, dtype: int64"
      ]
     },
     "execution_count": 5,
     "metadata": {},
     "output_type": "execute_result"
    }
   ],
   "source": [
    "# Choose a cutoff value and create a list of application types to be replaced\n",
    "# use the variable name `application_types_to_replace`\n",
    "\n",
    "# Choose a cutoff value (you can adjust this as needed)\n",
    "cutoff_value = 500  # For example, setting a cutoff value of 500\n",
    "\n",
    "# Get application types with frequencies below the cutoff value\n",
    "low_freq_application_types = application_type_counts[application_type_counts < cutoff_value].index.tolist()\n",
    "\n",
    "# Create a list of application types to be replaced with \"Other\"\n",
    "application_types_to_replace = low_freq_application_types\n",
    "\n",
    "# Replace in dataframe\n",
    "for app in application_types_to_replace:\n",
    "    application_df['APPLICATION_TYPE'] = application_df['APPLICATION_TYPE'].replace(app,\"Other\")\n",
    "\n",
    "# Check to make sure binning was successful\n",
    "application_df['APPLICATION_TYPE'].value_counts()"
   ]
  },
  {
   "cell_type": "markdown",
   "metadata": {},
   "source": []
  },
  {
   "cell_type": "code",
   "execution_count": 6,
   "metadata": {},
   "outputs": [
    {
     "name": "stdout",
     "output_type": "stream",
     "text": [
      "C1000    17326\n",
      "C2000     6074\n",
      "C1200     4837\n",
      "C3000     1918\n",
      "C2100     1883\n",
      "         ...  \n",
      "C4120        1\n",
      "C8210        1\n",
      "C2561        1\n",
      "C4500        1\n",
      "C2150        1\n",
      "Name: CLASSIFICATION, Length: 71, dtype: int64\n"
     ]
    }
   ],
   "source": [
    "# Look at CLASSIFICATION value counts for binning\n",
    "classification_counts = application_df['CLASSIFICATION'].value_counts()\n",
    "print(classification_counts)"
   ]
  },
  {
   "cell_type": "code",
   "execution_count": 7,
   "metadata": {},
   "outputs": [
    {
     "name": "stdout",
     "output_type": "stream",
     "text": [
      "C1000    17326\n",
      "C2000     6074\n",
      "C1200     4837\n",
      "C3000     1918\n",
      "C2100     1883\n",
      "C7000      777\n",
      "C1700      287\n",
      "C4000      194\n",
      "C5000      116\n",
      "C1270      114\n",
      "C2700      104\n",
      "C2800       95\n",
      "C7100       75\n",
      "C1300       58\n",
      "C1280       50\n",
      "C1230       36\n",
      "C1400       34\n",
      "C7200       32\n",
      "C2300       32\n",
      "C1240       30\n",
      "C8000       20\n",
      "C7120       18\n",
      "C1500       16\n",
      "C1800       15\n",
      "C6000       15\n",
      "C1250       14\n",
      "C8200       11\n",
      "C1238       10\n",
      "C1278       10\n",
      "C1235        9\n",
      "C1237        9\n",
      "C7210        7\n",
      "C2400        6\n",
      "C1720        6\n",
      "C4100        6\n",
      "C1257        5\n",
      "C1600        5\n",
      "C1260        3\n",
      "C2710        3\n",
      "C0           3\n",
      "C3200        2\n",
      "C1234        2\n",
      "C1246        2\n",
      "C1267        2\n",
      "C1256        2\n",
      "Name: CLASSIFICATION, dtype: int64\n"
     ]
    }
   ],
   "source": [
    "# You may find it helpful to look at CLASSIFICATION value counts >1\n",
    "classification_counts = application_df['CLASSIFICATION'].value_counts()\n",
    "classification_counts_gt1 = classification_counts[classification_counts > 1]\n",
    "print(classification_counts_gt1)"
   ]
  },
  {
   "cell_type": "code",
   "execution_count": 8,
   "metadata": {},
   "outputs": [
    {
     "data": {
      "text/plain": [
       "C1000    17326\n",
       "C2000     6074\n",
       "C1200     4837\n",
       "Other     2261\n",
       "C3000     1918\n",
       "C2100     1883\n",
       "Name: CLASSIFICATION, dtype: int64"
      ]
     },
     "execution_count": 8,
     "metadata": {},
     "output_type": "execute_result"
    }
   ],
   "source": [
    "# Choose a cutoff value and create a list of classifications to be replaced\n",
    "# use the variable name `classifications_to_replace`\n",
    "# Choose a cutoff value\n",
    "cutoff_value = 1000\n",
    "\n",
    "# Get classifications with frequencies below the cutoff value\n",
    "low_freq_classifications = classification_counts[classification_counts < cutoff_value].index.tolist()\n",
    "\n",
    "# Create a list of classifications to be replaced with \"Other\"\n",
    "classifications_to_replace = low_freq_classifications\n",
    "\n",
    "# Replace in dataframe\n",
    "for cls in classifications_to_replace:\n",
    "    application_df['CLASSIFICATION'] = application_df['CLASSIFICATION'].replace(cls,\"Other\")\n",
    "    \n",
    "# Check to make sure binning was successful\n",
    "application_df['CLASSIFICATION'].value_counts()"
   ]
  },
  {
   "cell_type": "code",
   "execution_count": 9,
   "metadata": {},
   "outputs": [],
   "source": [
    "# Convert categorical data to numeric with `pd.get_dummies`\n",
    "# Specify the categorical columns to convert\n",
    "categorical_columns = ['APPLICATION_TYPE', 'AFFILIATION', 'USE_CASE', 'ORGANIZATION', 'INCOME_AMT', 'SPECIAL_CONSIDERATIONS', 'CLASSIFICATION']\n",
    "\n",
    "# Create dummy variables for the specified columns\n",
    "application_df = pd.get_dummies(application_df, columns=categorical_columns)\n",
    "\n"
   ]
  },
  {
   "cell_type": "code",
   "execution_count": 10,
   "metadata": {},
   "outputs": [],
   "source": [
    "# Split our preprocessed data into our features and target arrays\n",
    "X = application_df.drop(columns=['IS_SUCCESSFUL'])  # Features (excluding the target column)\n",
    "y = application_df['IS_SUCCESSFUL']  # Target variable\n",
    "\n",
    "# Split the preprocessed data into a training and testing dataset\n",
    "X_train, X_test, y_train, y_test = train_test_split(X, y, random_state=1)"
   ]
  },
  {
   "cell_type": "code",
   "execution_count": 11,
   "metadata": {},
   "outputs": [],
   "source": [
    "# Create a StandardScaler instances\n",
    "scaler = StandardScaler()\n",
    "\n",
    "# Fit the StandardScaler\n",
    "X_scaler = scaler.fit(X_train)\n",
    "\n",
    "# Scale the data\n",
    "X_train_scaled = X_scaler.transform(X_train)\n",
    "X_test_scaled = X_scaler.transform(X_test)"
   ]
  },
  {
   "cell_type": "markdown",
   "metadata": {},
   "source": [
    "## Compile, Train and Evaluate the Model"
   ]
  },
  {
   "cell_type": "code",
   "execution_count": 14,
   "metadata": {},
   "outputs": [
    {
     "name": "stdout",
     "output_type": "stream",
     "text": [
      "Model: \"sequential_1\"\n",
      "_________________________________________________________________\n",
      " Layer (type)                Output Shape              Param #   \n",
      "=================================================================\n",
      " dense_3 (Dense)             (None, 80)                3520      \n",
      "                                                                 \n",
      " dense_4 (Dense)             (None, 30)                2430      \n",
      "                                                                 \n",
      " dense_5 (Dense)             (None, 1)                 31        \n",
      "                                                                 \n",
      "=================================================================\n",
      "Total params: 5981 (23.36 KB)\n",
      "Trainable params: 5981 (23.36 KB)\n",
      "Non-trainable params: 0 (0.00 Byte)\n",
      "_________________________________________________________________\n"
     ]
    }
   ],
   "source": [
    "# Define the model - deep neural net, i.e., the number of input features and hidden nodes for each layer.\n",
    "#  YOUR CODE GOES HERE\n",
    "\n",
    "nn = tf.keras.models.Sequential()\n",
    "\n",
    "# First hidden layer\n",
    "nn.add(tf.keras.layers.Dense(units=80, activation='relu', input_dim=len(X_train.columns)))\n",
    "\n",
    "# Second hidden layer\n",
    "nn.add(tf.keras.layers.Dense(units=30, activation='relu'))\n",
    "\n",
    "# Output layer\n",
    "nn.add(tf.keras.layers.Dense(units=1, activation='sigmoid'))\n",
    "\n",
    "# Check the structure of the model\n",
    "nn.summary()"
   ]
  },
  {
   "cell_type": "code",
   "execution_count": 15,
   "metadata": {},
   "outputs": [],
   "source": [
    "# Compile the model\n",
    "nn.compile(loss='binary_crossentropy', optimizer='adam', metrics=['accuracy'])"
   ]
  },
  {
   "cell_type": "code",
   "execution_count": 18,
   "metadata": {},
   "outputs": [
    {
     "name": "stdout",
     "output_type": "stream",
     "text": [
      "Epoch 1/100\n",
      "804/804 [==============================] - 0s 419us/step - loss: 0.5337 - accuracy: 0.7407\n",
      "Epoch 2/100\n",
      "804/804 [==============================] - 0s 415us/step - loss: 0.5332 - accuracy: 0.7406\n",
      "Epoch 3/100\n",
      "804/804 [==============================] - 0s 425us/step - loss: 0.5335 - accuracy: 0.7407\n",
      "Epoch 4/100\n",
      "804/804 [==============================] - 0s 404us/step - loss: 0.5337 - accuracy: 0.7407\n",
      "Epoch 5/100\n",
      "804/804 [==============================] - 0s 405us/step - loss: 0.5334 - accuracy: 0.7402\n",
      "Epoch 6/100\n",
      "804/804 [==============================] - 0s 402us/step - loss: 0.5336 - accuracy: 0.7401\n",
      "Epoch 7/100\n",
      "804/804 [==============================] - 0s 404us/step - loss: 0.5334 - accuracy: 0.7411\n",
      "Epoch 8/100\n",
      "804/804 [==============================] - 0s 409us/step - loss: 0.5335 - accuracy: 0.7412\n",
      "Epoch 9/100\n",
      "804/804 [==============================] - 0s 451us/step - loss: 0.5334 - accuracy: 0.7406\n",
      "Epoch 10/100\n",
      "804/804 [==============================] - 0s 417us/step - loss: 0.5334 - accuracy: 0.7403\n",
      "Epoch 11/100\n",
      "804/804 [==============================] - 0s 428us/step - loss: 0.5331 - accuracy: 0.7411\n",
      "Epoch 12/100\n",
      "804/804 [==============================] - 0s 440us/step - loss: 0.5332 - accuracy: 0.7407\n",
      "Epoch 13/100\n",
      "804/804 [==============================] - 0s 412us/step - loss: 0.5333 - accuracy: 0.7404\n",
      "Epoch 14/100\n",
      "804/804 [==============================] - 0s 414us/step - loss: 0.5333 - accuracy: 0.7398\n",
      "Epoch 15/100\n",
      "804/804 [==============================] - 0s 404us/step - loss: 0.5332 - accuracy: 0.7399\n",
      "Epoch 16/100\n",
      "804/804 [==============================] - 0s 408us/step - loss: 0.5331 - accuracy: 0.7409\n",
      "Epoch 17/100\n",
      "804/804 [==============================] - 0s 405us/step - loss: 0.5328 - accuracy: 0.7406\n",
      "Epoch 18/100\n",
      "804/804 [==============================] - 0s 403us/step - loss: 0.5336 - accuracy: 0.7402\n",
      "Epoch 19/100\n",
      "804/804 [==============================] - 0s 433us/step - loss: 0.5331 - accuracy: 0.7407\n",
      "Epoch 20/100\n",
      "804/804 [==============================] - 0s 418us/step - loss: 0.5333 - accuracy: 0.7396\n",
      "Epoch 21/100\n",
      "804/804 [==============================] - 0s 405us/step - loss: 0.5330 - accuracy: 0.7401\n",
      "Epoch 22/100\n",
      "804/804 [==============================] - 0s 403us/step - loss: 0.5329 - accuracy: 0.7399\n",
      "Epoch 23/100\n",
      "804/804 [==============================] - 0s 403us/step - loss: 0.5334 - accuracy: 0.7404\n",
      "Epoch 24/100\n",
      "804/804 [==============================] - 0s 401us/step - loss: 0.5328 - accuracy: 0.7402\n",
      "Epoch 25/100\n",
      "804/804 [==============================] - 0s 403us/step - loss: 0.5331 - accuracy: 0.7404\n",
      "Epoch 26/100\n",
      "804/804 [==============================] - 0s 425us/step - loss: 0.5330 - accuracy: 0.7409\n",
      "Epoch 27/100\n",
      "804/804 [==============================] - 0s 407us/step - loss: 0.5331 - accuracy: 0.7405\n",
      "Epoch 28/100\n",
      "804/804 [==============================] - 0s 404us/step - loss: 0.5324 - accuracy: 0.7408\n",
      "Epoch 29/100\n",
      "804/804 [==============================] - 0s 402us/step - loss: 0.5332 - accuracy: 0.7408\n",
      "Epoch 30/100\n",
      "804/804 [==============================] - 0s 403us/step - loss: 0.5332 - accuracy: 0.7408\n",
      "Epoch 31/100\n",
      "804/804 [==============================] - 0s 406us/step - loss: 0.5324 - accuracy: 0.7409\n",
      "Epoch 32/100\n",
      "804/804 [==============================] - 0s 403us/step - loss: 0.5329 - accuracy: 0.7408\n",
      "Epoch 33/100\n",
      "804/804 [==============================] - 0s 424us/step - loss: 0.5327 - accuracy: 0.7413\n",
      "Epoch 34/100\n",
      "804/804 [==============================] - 0s 404us/step - loss: 0.5332 - accuracy: 0.7414\n",
      "Epoch 35/100\n",
      "804/804 [==============================] - 0s 408us/step - loss: 0.5327 - accuracy: 0.7404\n",
      "Epoch 36/100\n",
      "804/804 [==============================] - 0s 402us/step - loss: 0.5326 - accuracy: 0.7406\n",
      "Epoch 37/100\n",
      "804/804 [==============================] - 0s 405us/step - loss: 0.5324 - accuracy: 0.7406\n",
      "Epoch 38/100\n",
      "804/804 [==============================] - 0s 406us/step - loss: 0.5332 - accuracy: 0.7408\n",
      "Epoch 39/100\n",
      "804/804 [==============================] - 0s 406us/step - loss: 0.5325 - accuracy: 0.7402\n",
      "Epoch 40/100\n",
      "804/804 [==============================] - 0s 405us/step - loss: 0.5333 - accuracy: 0.7412\n",
      "Epoch 41/100\n",
      "804/804 [==============================] - 0s 427us/step - loss: 0.5324 - accuracy: 0.7406\n",
      "Epoch 42/100\n",
      "804/804 [==============================] - 0s 408us/step - loss: 0.5324 - accuracy: 0.7411\n",
      "Epoch 43/100\n",
      "804/804 [==============================] - 0s 404us/step - loss: 0.5331 - accuracy: 0.7399\n",
      "Epoch 44/100\n",
      "804/804 [==============================] - 0s 404us/step - loss: 0.5326 - accuracy: 0.7410\n",
      "Epoch 45/100\n",
      "804/804 [==============================] - 0s 414us/step - loss: 0.5326 - accuracy: 0.7410\n",
      "Epoch 46/100\n",
      "804/804 [==============================] - 0s 408us/step - loss: 0.5324 - accuracy: 0.7407\n",
      "Epoch 47/100\n",
      "804/804 [==============================] - 0s 405us/step - loss: 0.5328 - accuracy: 0.7397\n",
      "Epoch 48/100\n",
      "804/804 [==============================] - 0s 423us/step - loss: 0.5324 - accuracy: 0.7412\n",
      "Epoch 49/100\n",
      "804/804 [==============================] - 0s 404us/step - loss: 0.5323 - accuracy: 0.7405\n",
      "Epoch 50/100\n",
      "804/804 [==============================] - 0s 402us/step - loss: 0.5328 - accuracy: 0.7413\n",
      "Epoch 51/100\n",
      "804/804 [==============================] - 0s 404us/step - loss: 0.5328 - accuracy: 0.7410\n",
      "Epoch 52/100\n",
      "804/804 [==============================] - 0s 404us/step - loss: 0.5324 - accuracy: 0.7405\n",
      "Epoch 53/100\n",
      "804/804 [==============================] - 0s 405us/step - loss: 0.5326 - accuracy: 0.7412\n",
      "Epoch 54/100\n",
      "804/804 [==============================] - 0s 403us/step - loss: 0.5326 - accuracy: 0.7409\n",
      "Epoch 55/100\n",
      "804/804 [==============================] - 0s 425us/step - loss: 0.5321 - accuracy: 0.7414\n",
      "Epoch 56/100\n",
      "804/804 [==============================] - 0s 409us/step - loss: 0.5322 - accuracy: 0.7412\n",
      "Epoch 57/100\n",
      "804/804 [==============================] - 0s 407us/step - loss: 0.5323 - accuracy: 0.7406\n",
      "Epoch 58/100\n",
      "804/804 [==============================] - 0s 405us/step - loss: 0.5326 - accuracy: 0.7412\n",
      "Epoch 59/100\n",
      "804/804 [==============================] - 0s 404us/step - loss: 0.5322 - accuracy: 0.7410\n",
      "Epoch 60/100\n",
      "804/804 [==============================] - 0s 403us/step - loss: 0.5322 - accuracy: 0.7409\n",
      "Epoch 61/100\n",
      "804/804 [==============================] - 0s 403us/step - loss: 0.5325 - accuracy: 0.7415\n",
      "Epoch 62/100\n",
      "804/804 [==============================] - 0s 422us/step - loss: 0.5322 - accuracy: 0.7411\n",
      "Epoch 63/100\n",
      "804/804 [==============================] - 0s 404us/step - loss: 0.5323 - accuracy: 0.7415\n",
      "Epoch 64/100\n",
      "804/804 [==============================] - 0s 403us/step - loss: 0.5321 - accuracy: 0.7416\n",
      "Epoch 65/100\n",
      "804/804 [==============================] - 0s 404us/step - loss: 0.5322 - accuracy: 0.7410\n",
      "Epoch 66/100\n",
      "804/804 [==============================] - 0s 402us/step - loss: 0.5324 - accuracy: 0.7414\n",
      "Epoch 67/100\n",
      "804/804 [==============================] - 0s 403us/step - loss: 0.5328 - accuracy: 0.7402\n",
      "Epoch 68/100\n",
      "804/804 [==============================] - 0s 404us/step - loss: 0.5321 - accuracy: 0.7402\n",
      "Epoch 69/100\n",
      "804/804 [==============================] - 0s 422us/step - loss: 0.5322 - accuracy: 0.7413\n",
      "Epoch 70/100\n",
      "804/804 [==============================] - 0s 403us/step - loss: 0.5320 - accuracy: 0.7414\n",
      "Epoch 71/100\n",
      "804/804 [==============================] - 0s 402us/step - loss: 0.5322 - accuracy: 0.7412\n",
      "Epoch 72/100\n",
      "804/804 [==============================] - 0s 402us/step - loss: 0.5325 - accuracy: 0.7405\n",
      "Epoch 73/100\n",
      "804/804 [==============================] - 0s 404us/step - loss: 0.5319 - accuracy: 0.7406\n",
      "Epoch 74/100\n",
      "804/804 [==============================] - 0s 403us/step - loss: 0.5322 - accuracy: 0.7407\n",
      "Epoch 75/100\n",
      "804/804 [==============================] - 0s 409us/step - loss: 0.5320 - accuracy: 0.7409\n",
      "Epoch 76/100\n",
      "804/804 [==============================] - 0s 424us/step - loss: 0.5318 - accuracy: 0.7407\n",
      "Epoch 77/100\n",
      "804/804 [==============================] - 0s 402us/step - loss: 0.5325 - accuracy: 0.7402\n",
      "Epoch 78/100\n",
      "804/804 [==============================] - 0s 406us/step - loss: 0.5320 - accuracy: 0.7409\n",
      "Epoch 79/100\n",
      "804/804 [==============================] - 0s 405us/step - loss: 0.5319 - accuracy: 0.7410\n",
      "Epoch 80/100\n",
      "804/804 [==============================] - 0s 405us/step - loss: 0.5318 - accuracy: 0.7413\n",
      "Epoch 81/100\n",
      "804/804 [==============================] - 0s 405us/step - loss: 0.5328 - accuracy: 0.7416\n",
      "Epoch 82/100\n",
      "804/804 [==============================] - 0s 403us/step - loss: 0.5322 - accuracy: 0.7412\n",
      "Epoch 83/100\n",
      "804/804 [==============================] - 0s 423us/step - loss: 0.5315 - accuracy: 0.7409\n",
      "Epoch 84/100\n",
      "804/804 [==============================] - 0s 403us/step - loss: 0.5316 - accuracy: 0.7413\n",
      "Epoch 85/100\n",
      "804/804 [==============================] - 0s 403us/step - loss: 0.5320 - accuracy: 0.7411\n",
      "Epoch 86/100\n",
      "804/804 [==============================] - 0s 404us/step - loss: 0.5318 - accuracy: 0.7414\n",
      "Epoch 87/100\n",
      "804/804 [==============================] - 0s 404us/step - loss: 0.5319 - accuracy: 0.7407\n",
      "Epoch 88/100\n",
      "804/804 [==============================] - 0s 404us/step - loss: 0.5317 - accuracy: 0.7418\n",
      "Epoch 89/100\n",
      "804/804 [==============================] - 0s 403us/step - loss: 0.5316 - accuracy: 0.7417\n",
      "Epoch 90/100\n",
      "804/804 [==============================] - 0s 423us/step - loss: 0.5324 - accuracy: 0.7414\n",
      "Epoch 91/100\n",
      "804/804 [==============================] - 0s 404us/step - loss: 0.5318 - accuracy: 0.7409\n",
      "Epoch 92/100\n",
      "804/804 [==============================] - 0s 403us/step - loss: 0.5318 - accuracy: 0.7414\n",
      "Epoch 93/100\n",
      "804/804 [==============================] - 0s 403us/step - loss: 0.5315 - accuracy: 0.7414\n",
      "Epoch 94/100\n",
      "804/804 [==============================] - 0s 408us/step - loss: 0.5314 - accuracy: 0.7417\n",
      "Epoch 95/100\n",
      "804/804 [==============================] - 0s 404us/step - loss: 0.5319 - accuracy: 0.7418\n",
      "Epoch 96/100\n",
      "804/804 [==============================] - 0s 408us/step - loss: 0.5317 - accuracy: 0.7410\n",
      "Epoch 97/100\n",
      "804/804 [==============================] - 0s 427us/step - loss: 0.5315 - accuracy: 0.7409\n",
      "Epoch 98/100\n",
      "804/804 [==============================] - 0s 404us/step - loss: 0.5317 - accuracy: 0.7417\n",
      "Epoch 99/100\n",
      "804/804 [==============================] - 0s 404us/step - loss: 0.5319 - accuracy: 0.7414\n",
      "Epoch 100/100\n",
      "804/804 [==============================] - 0s 403us/step - loss: 0.5318 - accuracy: 0.7413\n"
     ]
    },
    {
     "data": {
      "text/plain": [
       "<keras.src.callbacks.History at 0x176b38f40>"
      ]
     },
     "execution_count": 18,
     "metadata": {},
     "output_type": "execute_result"
    }
   ],
   "source": [
    "# Train the model\n",
    "nn.fit(X_train_scaled, y_train, epochs=100) "
   ]
  },
  {
   "cell_type": "code",
   "execution_count": 19,
   "metadata": {},
   "outputs": [
    {
     "name": "stdout",
     "output_type": "stream",
     "text": [
      "268/268 - 0s - loss: 0.5649 - accuracy: 0.7293 - 134ms/epoch - 501us/step\n",
      "Loss: 0.5649272799491882, Accuracy: 0.7293294668197632\n"
     ]
    }
   ],
   "source": [
    "# Evaluate the model using the test data\n",
    "model_loss, model_accuracy = nn.evaluate(X_test_scaled,y_test,verbose=2)\n",
    "print(f\"Loss: {model_loss}, Accuracy: {model_accuracy}\")"
   ]
  },
  {
   "cell_type": "code",
   "execution_count": 21,
   "metadata": {},
   "outputs": [],
   "source": [
    "# Export our model to HDF5 file\n",
    "nn.save(\"AlphabetSoupCharity.h5\")"
   ]
  }
 ],
 "metadata": {
  "kernelspec": {
   "display_name": "Python 3",
   "language": "python",
   "name": "python3"
  },
  "language_info": {
   "codemirror_mode": {
    "name": "ipython",
    "version": 3
   },
   "file_extension": ".py",
   "mimetype": "text/x-python",
   "name": "python",
   "nbconvert_exporter": "python",
   "pygments_lexer": "ipython3",
   "version": "3.10.13"
  },
  "vscode": {
   "interpreter": {
    "hash": "31f2aee4e71d21fbe5cf8b01ff0e069b9275f58929596ceb00d14d90e3e16cd6"
   }
  }
 },
 "nbformat": 4,
 "nbformat_minor": 4
}
